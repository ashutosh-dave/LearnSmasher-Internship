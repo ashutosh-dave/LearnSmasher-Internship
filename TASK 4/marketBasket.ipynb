{
 "cells": [
  {
   "cell_type": "code",
   "execution_count": 1,
   "metadata": {},
   "outputs": [],
   "source": [
    "import pandas as pd\n",
    "\n",
    "# Load the dataset without header\n",
    "dataset = pd.read_csv('Market_Basket.csv', header=None)\n",
    "\n",
    "# Optionally, you can remove any missing values or clean the dataset if needed\n",
    "\n",
    "# Convert the dataset into a list of transactions\n",
    "transactions = []\n",
    "for i in range(len(dataset)):\n",
    "    transactions.append([str(dataset.values[i, j]) for j in range(len(dataset.columns))])\n"
   ]
  },
  {
   "cell_type": "code",
   "execution_count": 4,
   "metadata": {},
   "outputs": [],
   "source": [
    "from apyori import apriori\n",
    "\n",
    "# Train the Apriori algorithm\n",
    "min_support = 0.3  # Minimum support threshold\n",
    "min_confidence = 0.7  # Minimum confidence threshold\n",
    "rules = apriori(transactions, min_support=min_support, min_confidence=min_confidence)\n"
   ]
  },
  {
   "cell_type": "code",
   "execution_count": 16,
   "metadata": {},
   "outputs": [],
   "source": [
    "for rule in rules:\n",
    "    antecedent = ', '.join([item for item in rule.ordered_statistics[0].items_base])\n",
    "    consequent = ', '.join([item for item in rule.ordered_statistics[0].items_add])\n",
    "    support = rule.support\n",
    "    confidence = rule.ordered_statistics[0].confidence\n",
    "    lift = rule.ordered_statistics[0].lift\n",
    "    print(f\"Rule: {antecedent} -> {consequent}\")\n",
    "    print(f\"Support: {support}, Confidence: {confidence}, Lift: {lift}\")\n",
    "    print(\"---\")\n"
   ]
  },
  {
   "cell_type": "code",
   "execution_count": null,
   "metadata": {},
   "outputs": [],
   "source": [
    "import pandas as pd\n",
    "from mlxtend.preprocessing import TransactionEncoder\n",
    "from mlxtend.frequent_patterns import fpgrowth, association_rules\n",
    "import matplotlib.pyplot as plt\n",
    "\n",
    "# Load the dataset\n",
    "df = pd.read_csv('Market_Basket.csv', header=None)\n",
    "\n",
    "# Remove any rows that contain missing values\n",
    "df = df.dropna()\n",
    "\n",
    "# Convert the dataframe into a list of lists\n",
    "transactions = df.values.tolist()\n",
    "\n",
    "# Perform one-hot encoding\n",
    "te = TransactionEncoder()\n",
    "te_ary = te.fit_transform(transactions)\n",
    "df_encoded = pd.DataFrame(te_ary, columns=te.columns_)\n",
    "\n",
    "# Apply FP-Growth algorithm\n",
    "frequent_itemsets = fpgrowth(df_encoded, min_support=0.05, use_colnames=True)\n",
    "\n",
    "# Generate association rules\n",
    "rules = association_rules(frequent_itemsets, metric=\"confidence\", min_threshold=0.75)\n",
    "\n",
    "# Print and visualize the rules\n",
    "for idx, rule in rules.iterrows():\n",
    "    antecedent = ', '.join([item for item in rule.antecedents])\n",
    "    consequent = ', '.join([item for item in rule.consequents])\n",
    "    support = rule.support\n",
    "    confidence = rule.confidence\n",
    "    lift = rule.lift\n",
    "    print(f\"Rule: {antecedent} -> {consequent}\")\n",
    "    print(f\"Support: {support}, Confidence: {confidence}, Lift: {lift}\")\n",
    "    print(\"---\")\n",
    "\n",
    "plt.scatter(rules['support'], rules['confidence'], alpha=0.5)\n",
    "plt.xlabel('Support')\n",
    "plt.ylabel('Confidence')\n",
    "plt.title('Association Rules')\n",
    "plt.show()\n"
   ]
  },
  {
   "cell_type": "code",
   "execution_count": null,
   "metadata": {},
   "outputs": [],
   "source": []
  }
 ],
 "metadata": {
  "kernelspec": {
   "display_name": "Python 3",
   "language": "python",
   "name": "python3"
  },
  "language_info": {
   "codemirror_mode": {
    "name": "ipython",
    "version": 3
   },
   "file_extension": ".py",
   "mimetype": "text/x-python",
   "name": "python",
   "nbconvert_exporter": "python",
   "pygments_lexer": "ipython3",
   "version": "3.11.0"
  },
  "orig_nbformat": 4,
  "vscode": {
   "interpreter": {
    "hash": "2b281c033485ed537fe7b4d42dbbd59bb50a13eeff6229664da3a0d8368c03fc"
   }
  }
 },
 "nbformat": 4,
 "nbformat_minor": 2
}
