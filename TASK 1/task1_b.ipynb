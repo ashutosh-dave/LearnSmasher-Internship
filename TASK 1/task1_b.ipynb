{
 "cells": [
  {
   "cell_type": "code",
   "execution_count": 1,
   "metadata": {},
   "outputs": [
    {
     "name": "stdout",
     "output_type": "stream",
     "text": [
      "Accuracy: 0.88\n",
      "Precision: 0.45\n",
      "Recall: 0.9\n",
      "F1 Score: 0.6\n"
     ]
    }
   ],
   "source": [
    "# Given values\n",
    "total_samples = 500\n",
    "predicted_positive = 100\n",
    "actual_positive = 50\n",
    "true_positive = 45\n",
    "\n",
    "# Calculate the metrics\n",
    "false_positive = predicted_positive - true_positive\n",
    "false_negative = actual_positive - true_positive\n",
    "true_negative = total_samples - (true_positive + false_positive + false_negative)\n",
    "\n",
    "# Calculate accuracy\n",
    "accuracy = (true_positive + true_negative) / total_samples\n",
    "\n",
    "# Calculate precision\n",
    "precision = true_positive / (true_positive + false_positive)\n",
    "\n",
    "# Calculate recall\n",
    "recall = true_positive / (true_positive + false_negative)\n",
    "\n",
    "# Calculate F1 score\n",
    "f1_score = 2 * (precision * recall) / (precision + recall)\n",
    "\n",
    "# Print the metrics\n",
    "print(\"Accuracy:\", accuracy)\n",
    "print(\"Precision:\", precision)\n",
    "print(\"Recall:\", recall)\n",
    "print(\"F1 Score:\", f1_score)"
   ]
  },
  {
   "cell_type": "code",
   "execution_count": null,
   "metadata": {},
   "outputs": [],
   "source": []
  }
 ],
 "metadata": {
  "kernelspec": {
   "display_name": "Python 3",
   "language": "python",
   "name": "python3"
  },
  "language_info": {
   "codemirror_mode": {
    "name": "ipython",
    "version": 3
   },
   "file_extension": ".py",
   "mimetype": "text/x-python",
   "name": "python",
   "nbconvert_exporter": "python",
   "pygments_lexer": "ipython3",
   "version": "3.10.11"
  },
  "orig_nbformat": 4
 },
 "nbformat": 4,
 "nbformat_minor": 2
}
