{
 "cells": [
  {
   "cell_type": "code",
   "execution_count": 56,
   "metadata": {},
   "outputs": [],
   "source": [
    "import numpy as np\n",
    "import pandas as pd\n",
    "import matplotlib.pyplot as plt\n",
    "import seaborn as sns\n",
    "from sklearn.model_selection import train_test_split"
   ]
  },
  {
   "cell_type": "code",
   "execution_count": 57,
   "metadata": {},
   "outputs": [
    {
     "name": "stdout",
     "output_type": "stream",
     "text": [
      "Data types:  Unnamed: 0    float64\n",
      "Age             int64\n",
      "Sex             int64\n",
      "ChestPain      object\n",
      "RestBP          int64\n",
      "Chol            int64\n",
      "Fbs           float64\n",
      "RestECG         int64\n",
      "MaxHR         float64\n",
      "ExAng         float64\n",
      "Oldpeak       float64\n",
      "Slope           int64\n",
      "Ca             object\n",
      "Thal           object\n",
      "AHD            object\n",
      "dtype: object\n",
      "Number of rows:  124\n",
      "Number of columns:  15\n",
      "Missing values:  Unnamed: 0    7\n",
      "Age           0\n",
      "Sex           0\n",
      "ChestPain     6\n",
      "RestBP        0\n",
      "Chol          0\n",
      "Fbs           1\n",
      "RestECG       0\n",
      "MaxHR         1\n",
      "ExAng         0\n",
      "Oldpeak       0\n",
      "Slope         0\n",
      "Ca            2\n",
      "Thal          4\n",
      "AHD           7\n",
      "dtype: int64\n"
     ]
    },
    {
     "data": {
      "image/png": "[encoded data removed]",
      "text/plain": [
       "<Figure size 432x288 with 1 Axes>"
      ]
     },
     "metadata": {
      "needs_background": "light"
     },
     "output_type": "display_data"
    },
    {
     "name": "stdout",
     "output_type": "stream",
     "text": [
      "X_train shape:  (93, 14)\n",
      "X_test shape:  (31, 14)\n",
      "y_train shape:  (93,)\n",
      "y_test shape:  (31,)\n"
     ]
    }
   ],
   "source": [
    "# Read the data\n",
    "data = pd.read_csv(\"Heart.csv\")\n",
    "shape = data.shape\n",
    "\n",
    "num_of_rows = shape[0]\n",
    "num_of_cols = shape[1]\n",
    "data_types = data.dtypes\n",
    "\n",
    "print(\"Data types: \", data_types)\n",
    "\n",
    "print(\"Number of rows: \", num_of_rows)\n",
    "print(\"Number of columns: \", num_of_cols)\n",
    "\n",
    "missing_values = data.isnull().sum()\n",
    "print(\"Missing values: \", missing_values)\n",
    "\n",
    "sns.heatmap(data.isnull(), cbar=False)\n",
    "plt.show()\n",
    "\n",
    "X = data.drop('AHD', axis=1)\n",
    "y = data['AHD']\n",
    "\n",
    "X_train, X_test, y_train, y_test = train_test_split(X, y, test_size=0.25, random_state=1)\n",
    "\n",
    "print(\"X_train shape: \", X_train.shape)\n",
    "print(\"X_test shape: \", X_test.shape)\n",
    "print(\"y_train shape: \", y_train.shape)\n",
    "print(\"y_test shape: \", y_test.shape)"
   ]
  },
  {
   "cell_type": "code",
   "execution_count": 58,
   "metadata": {},
   "outputs": [
    {
     "name": "stdout",
     "output_type": "stream",
     "text": [
      "Data types:  CustomerID                 int64\n",
      "Genre                     object\n",
      "Age                        int64\n",
      "Annual Income (k$)         int64\n",
      "Spending Score (1-100)     int64\n",
      "dtype: object\n",
      "Number of rows:  200\n",
      "Number of columns:  5\n",
      "Missing values:  CustomerID                0\n",
      "Genre                     0\n",
      "Age                       0\n",
      "Annual Income (k$)        0\n",
      "Spending Score (1-100)    0\n",
      "dtype: int64\n"
     ]
    },
    {
     "data": {
      "image/png": "[encoded data removed]",
      "text/plain": [
       "<Figure size 432x288 with 1 Axes>"
      ]
     },
     "metadata": {
      "needs_background": "light"
     },
     "output_type": "display_data"
    },
    {
     "name": "stdout",
     "output_type": "stream",
     "text": [
      "X_train shape:  (150, 4)\n",
      "X_test shape:  (50, 4)\n",
      "y_train shape:  (150,)\n",
      "y_test shape:  (50,)\n"
     ]
    }
   ],
   "source": [
    "data = pd.read_csv(\"Mall_Customers.csv\")\n",
    "shape = data.shape\n",
    "\n",
    "num_of_rows = shape[0]\n",
    "num_of_cols = shape[1]\n",
    "data_types = data.dtypes\n",
    "\n",
    "print(\"Data types: \", data_types)\n",
    "\n",
    "print(\"Number of rows: \", num_of_rows)\n",
    "print(\"Number of columns: \", num_of_cols)\n",
    "\n",
    "missing_values = data.isnull().sum()\n",
    "print(\"Missing values: \", missing_values)\n",
    "\n",
    "sns.heatmap(data.isnull(), cbar=False)\n",
    "plt.show()\n",
    "\n",
    "X = data.drop('Spending Score (1-100)', axis=1)\n",
    "y = data['Spending Score (1-100)']\n",
    "\n",
    "X_train, X_test, y_train, y_test = train_test_split(X, y, test_size=0.25, random_state=1)\n",
    "\n",
    "print(\"X_train shape: \", X_train.shape)\n",
    "print(\"X_test shape: \", X_test.shape)\n",
    "print(\"y_train shape: \", y_train.shape)\n",
    "print(\"y_test shape: \", y_test.shape)"
   ]
  },
  {
   "cell_type": "code",
   "execution_count": 63,
   "metadata": {},
   "outputs": [
    {
     "name": "stdout",
     "output_type": "stream",
     "text": [
      "Data types:  shrimp                object\n",
      "almonds               object\n",
      "avocado               object\n",
      "vegetables mix        object\n",
      "green grapes          object\n",
      "whole weat flour      object\n",
      "yams                  object\n",
      "cottage cheese        object\n",
      "energy drink          object\n",
      "tomato juice          object\n",
      "low fat yogurt        object\n",
      "green tea             object\n",
      "honey                 object\n",
      "salad                 object\n",
      "mineral water         object\n",
      "salmon                object\n",
      "antioxydant juice     object\n",
      "frozen smoothie       object\n",
      "spinach               object\n",
      "olive oil            float64\n",
      "dtype: object\n",
      "Number of rows:  7500\n",
      "Number of columns:  20\n",
      "Missing values:  shrimp                  0\n",
      "almonds              1754\n",
      "avocado              3112\n",
      "vegetables mix       4156\n",
      "green grapes         4972\n",
      "whole weat flour     5637\n",
      "yams                 6132\n",
      "cottage cheese       6520\n",
      "energy drink         6847\n",
      "tomato juice         7106\n",
      "low fat yogurt       7245\n",
      "green tea            7347\n",
      "honey                7414\n",
      "salad                7454\n",
      "mineral water        7476\n",
      "salmon               7493\n",
      "antioxydant juice    7497\n",
      "frozen smoothie      7497\n",
      "spinach              7498\n",
      "olive oil            7500\n",
      "dtype: int64\n"
     ]
    },
    {
     "data": {
      "image/png": "[encoded data removed]",
      "text/plain": [
       "<Figure size 432x288 with 1 Axes>"
      ]
     },
     "metadata": {
      "needs_background": "light"
     },
     "output_type": "display_data"
    },
    {
     "name": "stdout",
     "output_type": "stream",
     "text": [
      "X_train shape:  (5625, 19)\n",
      "X_test shape:  (1875, 19)\n",
      "y_train shape:  (5625,)\n",
      "y_test shape:  (1875,)\n"
     ]
    }
   ],
   "source": [
    "data = pd.read_csv(\"Market_Basket.csv\")\n",
    "shape = data.shape\n",
    "\n",
    "num_of_rows = shape[0]\n",
    "num_of_cols = shape[1]\n",
    "data_types = data.dtypes\n",
    "\n",
    "print(\"Data types: \", data_types)\n",
    "\n",
    "print(\"Number of rows: \", num_of_rows)\n",
    "print(\"Number of columns: \", num_of_cols)\n",
    "\n",
    "missing_values = data.isnull().sum()\n",
    "print(\"Missing values: \", missing_values)\n",
    "\n",
    "sns.heatmap(data.isnull(), cbar=False)\n",
    "plt.show()\n",
    "\n",
    "x = data.drop(data.columns[0], axis=1)\n",
    "y = data[data.columns[0]]\n",
    "\n",
    "X_train, X_test, y_train, y_test = train_test_split(x, y, test_size=0.25, random_state=1)\n",
    "\n",
    "print(\"X_train shape: \", X_train.shape)\n",
    "print(\"X_test shape: \", X_test.shape)\n",
    "print(\"y_train shape: \", y_train.shape)\n",
    "print(\"y_test shape: \", y_test.shape)"
   ]
  },
  {
   "cell_type": "code",
   "execution_count": 65,
   "metadata": {},
   "outputs": [
    {
     "name": "stdout",
     "output_type": "stream",
     "text": [
      "Data types:  YEAR         int64\n",
      "JAN        float64\n",
      "FEB        float64\n",
      "MAR        float64\n",
      "APR        float64\n",
      "MAY        float64\n",
      "JUN        float64\n",
      "JUL        float64\n",
      "AUG        float64\n",
      "SEP        float64\n",
      "OCT        float64\n",
      "NOV        float64\n",
      "DEC        float64\n",
      "ANNUAL     float64\n",
      "JAN-FEB    float64\n",
      "MAR-MAY    float64\n",
      "JUN-SEP    float64\n",
      "OCT-DEC    float64\n",
      "dtype: object\n",
      "Number of rows:  117\n",
      "Number of columns:  18\n",
      "Missing values:  YEAR       0\n",
      "JAN        0\n",
      "FEB        0\n",
      "MAR        0\n",
      "APR        0\n",
      "MAY        0\n",
      "JUN        0\n",
      "JUL        0\n",
      "AUG        0\n",
      "SEP        0\n",
      "OCT        0\n",
      "NOV        0\n",
      "DEC        0\n",
      "ANNUAL     0\n",
      "JAN-FEB    0\n",
      "MAR-MAY    0\n",
      "JUN-SEP    0\n",
      "OCT-DEC    0\n",
      "dtype: int64\n"
     ]
    },
    {
     "data": {
      "image/png": "[encoded data removed]",
      "text/plain": [
       "<Figure size 432x288 with 1 Axes>"
      ]
     },
     "metadata": {
      "needs_background": "light"
     },
     "output_type": "display_data"
    },
    {
     "name": "stdout",
     "output_type": "stream",
     "text": [
      "X_train shape:  (87, 17)\n",
      "X_test shape:  (30, 17)\n",
      "y_train shape:  (87,)\n",
      "y_test shape:  (30,)\n"
     ]
    }
   ],
   "source": [
    "data = pd.read_csv(\"temperatures.csv\")\n",
    "shape = data.shape\n",
    "\n",
    "num_of_rows = shape[0]\n",
    "num_of_cols = shape[1]\n",
    "data_types = data.dtypes\n",
    "\n",
    "print(\"Data types: \", data_types)\n",
    "\n",
    "print(\"Number of rows: \", num_of_rows)\n",
    "print(\"Number of columns: \", num_of_cols)\n",
    "\n",
    "missing_values = data.isnull().sum()\n",
    "print(\"Missing values: \", missing_values)\n",
    "\n",
    "sns.heatmap(data.isnull(), cbar=False)\n",
    "plt.show()\n",
    "\n",
    "X = data.drop(data.columns[0], axis=1)\n",
    "y = data[data.columns[0]]\n",
    "\n",
    "X_train, X_test, y_train, y_test = train_test_split(X, y, test_size=0.25, random_state=1)\n",
    "\n",
    "print(\"X_train shape: \", X_train.shape)\n",
    "print(\"X_test shape: \", X_test.shape)\n",
    "print(\"y_train shape: \", y_train.shape)\n",
    "print(\"y_test shape: \", y_test.shape)\n",
    "\n"
   ]
  },
  {
   "cell_type": "code",
   "execution_count": 66,
   "metadata": {},
   "outputs": [
    {
     "name": "stdout",
     "output_type": "stream",
     "text": [
      "Data types:  v1    object\n",
      "v2    object\n",
      "dtype: object\n",
      "Number of rows:  400\n",
      "Number of columns:  2\n",
      "Missing values:  v1    0\n",
      "v2    0\n",
      "dtype: int64\n"
     ]
    },
    {
     "data": {
      "image/png": "[encoded data removed]",
      "text/plain": [
       "<Figure size 432x288 with 1 Axes>"
      ]
     },
     "metadata": {
      "needs_background": "light"
     },
     "output_type": "display_data"
    },
    {
     "name": "stdout",
     "output_type": "stream",
     "text": [
      "X_train shape:  (300, 1)\n",
      "X_test shape:  (100, 1)\n",
      "y_train shape:  (300,)\n",
      "y_test shape:  (100,)\n"
     ]
    }
   ],
   "source": [
    "data = pd.read_csv(\"sms_spam.csv\", encoding='latin-1')\n",
    "shape = data.shape\n",
    "\n",
    "num_of_rows = shape[0]\n",
    "num_of_cols = shape[1]\n",
    "data_types = data.dtypes\n",
    "\n",
    "print(\"Data types: \", data_types)\n",
    "\n",
    "print(\"Number of rows: \", num_of_rows)\n",
    "print(\"Number of columns: \", num_of_cols)\n",
    "\n",
    "missing_values = data.isnull().sum()\n",
    "print(\"Missing values: \", missing_values)\n",
    "\n",
    "sns.heatmap(data.isnull(), cbar=False)\n",
    "plt.show()\n",
    "\n",
    "X = data.drop(data.columns[0], axis=1)\n",
    "y = data[data.columns[0]]\n",
    "\n",
    "X_train, X_test, y_train, y_test = train_test_split(X, y, test_size=0.25, random_state=1)\n",
    "\n",
    "print(\"X_train shape: \", X_train.shape)\n",
    "print(\"X_test shape: \", X_test.shape)\n",
    "print(\"y_train shape: \", y_train.shape)\n",
    "print(\"y_test shape: \", y_test.shape)\n"
   ]
  },
  {
   "cell_type": "code",
   "execution_count": null,
   "metadata": {},
   "outputs": [],
   "source": []
  }
 ],
 "metadata": {
  "kernelspec": {
   "display_name": "Python 3",
   "language": "python",
   "name": "python3"
  },
  "language_info": {
   "codemirror_mode": {
    "name": "ipython",
    "version": 3
   },
   "file_extension": ".py",
   "mimetype": "text/x-python",
   "name": "python",
   "nbconvert_exporter": "python",
   "pygments_lexer": "ipython3",
   "version": "3.10.11"
  },
  "orig_nbformat": 4
 },
 "nbformat": 4,
 "nbformat_minor": 2
}
